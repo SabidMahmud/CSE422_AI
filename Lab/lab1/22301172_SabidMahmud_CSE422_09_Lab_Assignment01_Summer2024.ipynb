{
  "nbformat": 4,
  "nbformat_minor": 0,
  "metadata": {
    "colab": {
      "provenance": []
    },
    "kernelspec": {
      "name": "python3",
      "display_name": "Python 3"
    },
    "language_info": {
      "name": "python"
    }
  },
  "cells": [
    {
      "cell_type": "code",
      "execution_count": null,
      "metadata": {
        "id": "e5GnrG9uBPG7"
      },
      "outputs": [],
      "source": [
        "import heapq\n",
        "def aStrSearch(maps, heuristics, startCity, goal):\n",
        "    priorityQ = []\n",
        "    heapq.heappush(priorityQ, (heuristics[startCity], 0, startCity, [startCity]))\n",
        "    visited = set()\n",
        "\n",
        "    while priorityQ:\n",
        "        _, totalDist, currentCity, path = heapq.heappop(priorityQ)\n",
        "\n",
        "        if currentCity in visited:\n",
        "            continue\n",
        "\n",
        "        visited.add(currentCity)\n",
        "\n",
        "        if currentCity == goal:\n",
        "            return path, totalDist\n",
        "\n",
        "        for neighborCity, dist in maps[currentCity].items():\n",
        "            if neighborCity in visited:\n",
        "                continue\n",
        "            new_totalDist = dist + totalDist\n",
        "            newData = heuristics[neighborCity] + new_totalDist\n",
        "            heapq.heappush(priorityQ, (newData, new_totalDist, neighborCity, path + [neighborCity]))\n",
        "\n",
        "    return None, None\n"
      ]
    },
    {
      "cell_type": "code",
      "source": [
        "\n",
        "inputPath = \"./22301172_SabidMahmud_CSE422_09_Lab_Assignment01_InputFile_Summer2024.txt\"\n",
        "with open(inputPath, 'r') as inputFile:\n",
        "    readData = inputFile.readlines()\n",
        "\n",
        "maps = dict()\n",
        "heuristics = dict()\n",
        "for line in readData:\n",
        "    placeValue = line.strip().split()\n",
        "    city = placeValue[0]\n",
        "    huristic = int(placeValue[1])\n",
        "    heuristics[city] = huristic\n",
        "    # print(huristic,\"\\n\",heuristics)\n",
        "    neighbors_dist = dict() # {neighbor city : distatnce}\n",
        "\n",
        "    for i in range(2, len(placeValue), 2):\n",
        "        neighbor_ct = placeValue[i]\n",
        "        dist = int(placeValue[i+1])\n",
        "        neighbors_dist[neighbor_ct] = dist\n",
        "\n",
        "    # print(neighbors_dist)\n",
        "\n",
        "    maps[city] = neighbors_dist\n",
        "\n",
        "# print(heuristics)\n",
        "# print(\"Maps:\")\n",
        "# print(maps)\n",
        "startCity = input(\"Start City Name: \")\n",
        "goal = input(\"Destination City Name: \")\n",
        "\n",
        "path, totalDistance = aStrSearch(maps, heuristics, startCity, goal)\n",
        "\n",
        "if path:\n",
        "    print(f\"Path: {' -> '.join(path)}\")\n",
        "    print(f\"Total Distance from {startCity} to {goal}: {totalDistance} km\")\n",
        "else:\n",
        "    print(\"No Path Found\")"
      ],
      "metadata": {
        "id": "p2ycpxz1BZuc"
      },
      "execution_count": null,
      "outputs": []
    }
  ]
}